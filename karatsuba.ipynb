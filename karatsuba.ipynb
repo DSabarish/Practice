{
  "nbformat": 4,
  "nbformat_minor": 0,
  "metadata": {
    "colab": {
      "provenance": [],
      "authorship_tag": "ABX9TyM78yOCvdASY1Na0Ywn3eM8",
      "include_colab_link": true
    },
    "kernelspec": {
      "name": "python3",
      "display_name": "Python 3"
    },
    "language_info": {
      "name": "python"
    }
  },
  "cells": [
    {
      "cell_type": "markdown",
      "metadata": {
        "id": "view-in-github",
        "colab_type": "text"
      },
      "source": [
        "<a href=\"https://colab.research.google.com/github/saba100s/Practice/blob/main/karatsuba.ipynb\" target=\"_parent\"><img src=\"https://colab.research.google.com/assets/colab-badge.svg\" alt=\"Open In Colab\"/></a>"
      ]
    },
    {
      "cell_type": "markdown",
      "source": [
        "---\n",
        "\n",
        "**Karatsuba Algorithm**\n",
        "\n",
        "The Karatsuba algorithm is a fast multiplication algorithm used to multiply two large numbers efficiently. It was discovered by Anatolii Alexeevitch Karatsuba in 1960, when he was a student at Moscow State University.\n",
        "\n",
        "The basic idea behind the Karatsuba algorithm is to split the numbers to be multiplied into smaller parts, perform recursive multiplication on these smaller parts, and then combine the results to get the final product. The key insight is that instead of doing four multiplications for each pair of digits in the numbers, as in the standard multiplication algorithm, Karatsuba's algorithm reduces this to just three multiplications by exploiting the fact that:\n",
        "\n",
        "\\[ (a \\cdot c) \\times (b \\cdot d) = (a \\cdot b) \\times (c \\cdot d) \\]\n",
        "\n",
        "Here's a simplified outline of the Karatsuba algorithm:\n",
        "\n",
        "1. Given two numbers, \\(x\\) and \\(y\\), split each into two parts of equal size, such that \\(x = a \\cdot 10^{\\frac{n}{2}} + b\\) and \\(y = c \\cdot 10^{\\frac{n}{2}} + d\\), where \\(a\\), \\(b\\), \\(c\\), and \\(d\\) are parts of \\(x\\) and \\(y\\), and \\(n\\) is the number of digits in the larger of the two numbers.\n",
        "2. Calculate three intermediate products:\n",
        "   - \\(z_1 = a \\cdot c\\)\n",
        "   - \\(z_2 = b \\cdot d\\)\n",
        "   - \\(z_3 = (a + b) \\cdot (c + d)\\)\n",
        "3. Compute the final result using the formula:\n",
        "   \\[x \\times y = z_1 \\cdot 10^n + (z_3 - z_1 - z_2) \\cdot 10^{\\frac{n}{2}} + z_2\\]\n",
        "\n",
        "This algorithm reduces the number of multiplications required to compute the product of two large numbers, improving computational efficiency, especially for very large numbers. However, for relatively small numbers, the overhead of recursion might outweigh the benefits of the algorithm.\n",
        "\n",
        "**Python Implementation:**\n",
        "\n",
        "```python\n",
        "def karatsuba(x, y):\n",
        "    if x < 10 or y < 10:\n",
        "        return x * y\n",
        "    \n",
        "    n = max(len(str(x)), len(str(y)))\n",
        "    m = n // 2\n",
        "    \n",
        "    a, b = divmod(x, 10**m)\n",
        "    c, d = divmod(y, 10**m)\n",
        "    \n",
        "    z1 = karatsuba(a, c)\n",
        "    z2 = karatsuba(b, d)\n",
        "    z3 = karatsuba(a + b, c + d) - z1 - z2\n",
        "    \n",
        "    return z1 * 10**(2*m) + z3 * 10**m + z2\n",
        "\n",
        "# Example usage\n",
        "result = karatsuba(1234, 5678)\n",
        "print(result)  # Output: 7006652\n",
        "```\n",
        "\n",
        "This is a basic implementation for demonstration purposes. In practice, optimizations can be applied to make it more efficient, such as using more efficient base cases, handling edge cases, and optimizing the arithmetic operations.\n",
        "\n",
        "---"
      ],
      "metadata": {
        "id": "ch3kSUx3H_da"
      }
    },
    {
      "cell_type": "code",
      "execution_count": 2,
      "metadata": {
        "colab": {
          "base_uri": "https://localhost:8080/"
        },
        "id": "hgO2qCdWHZmq",
        "outputId": "291b68c0-d4e6-4ffd-c4c0-aad13693deda"
      },
      "outputs": [
        {
          "output_type": "stream",
          "name": "stdout",
          "text": [
            "7006652\n"
          ]
        }
      ],
      "source": [
        "def karatsuba(x, y):\n",
        "    if x < 10 or y < 10:\n",
        "        return x * y\n",
        "\n",
        "    n = max(len(str(x)), len(str(y)))\n",
        "    m = n // 2\n",
        "\n",
        "    a, b = divmod(x, 10**m)\n",
        "    c, d = divmod(y, 10**m)\n",
        "\n",
        "    z1 = karatsuba(a, c)\n",
        "    z2 = karatsuba(b, d)\n",
        "    z3 = karatsuba(a + b, c + d) - z1 - z2\n",
        "\n",
        "    return z1 * 10**(2*m) + z3 * 10**m + z2\n",
        "\n",
        "# Example usage\n",
        "result = karatsuba(1234, 5678)\n",
        "print(result)  # Output: 7006652\n"
      ]
    }
  ]
}