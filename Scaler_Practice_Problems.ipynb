{
  "nbformat": 4,
  "nbformat_minor": 0,
  "metadata": {
    "colab": {
      "provenance": [],
      "toc_visible": true,
      "authorship_tag": "ABX9TyNv9gT1tjupuIkLpNeN9SLA",
      "include_colab_link": true
    },
    "kernelspec": {
      "name": "python3",
      "display_name": "Python 3"
    },
    "language_info": {
      "name": "python"
    }
  },
  "cells": [
    {
      "cell_type": "markdown",
      "metadata": {
        "id": "view-in-github",
        "colab_type": "text"
      },
      "source": [
        "<a href=\"https://colab.research.google.com/github/DSabarish/Practice/blob/main/Scaler_Practice_Problems.ipynb\" target=\"_parent\"><img src=\"https://colab.research.google.com/assets/colab-badge.svg\" alt=\"Open In Colab\"/></a>"
      ]
    },
    {
      "cell_type": "markdown",
      "source": [
        "# **One Way Anova Test**"
      ],
      "metadata": {
        "id": "nJtpoZUV6y4N"
      }
    },
    {
      "cell_type": "markdown",
      "source": [
        "#### Q1. Energy Consumption"
      ],
      "metadata": {
        "id": "Zs-h51FI7kfr"
      }
    },
    {
      "cell_type": "code",
      "execution_count": 9,
      "metadata": {
        "colab": {
          "base_uri": "https://localhost:8080/"
        },
        "id": "upr-vcvg6wiy",
        "outputId": "4c60065a-813b-4bce-9112-be7a317fefa3"
      },
      "outputs": [
        {
          "output_type": "stream",
          "name": "stdout",
          "text": [
            "F-statistic: 6.324748040313554\n",
            "P-value: 0.0049302919205628576\n",
            "alpha: 0.05\n",
            "p_value < alpha\n",
            "Inference: Reject H0: At least one group has a different mean\n"
          ]
        }
      ],
      "source": [
        "\"\"\"\n",
        "Q1. Energy Consumption\n",
        "\n",
        "The United States is divided into four regions: Northeast, Midwest, South and West regions.\n",
        "Independent random samples of households in these regions yielded the data on last year’s energy consumptions.\n",
        "\"\"\"\n",
        "\n",
        "a = [13, 8, 11, 12, 11]\n",
        "b = [15, 10, 16, 11, 13, 10]\n",
        "c = [5, 11, 9, 5]\n",
        "d = [8, 10, 6, 5, 7]\n",
        "\n",
        "# Null Hypothesis (h0): All regions households had the same mean energy consumption in last year.\n",
        "# Alternative Hypothesis (ha): Not all regions households had the same mean energy consumption in last year.\n",
        "\n",
        "import scipy.stats as stats\n",
        "# Perform One-Way ANOVA test\n",
        "alpha = 0.05\n",
        "anova_stat, anova_p_value = stats.f_oneway(a, b, c, d)\n",
        "\n",
        "# Interpretation\n",
        "print(\"F-statistic:\", anova_stat)\n",
        "print(\"P-value:\", anova_p_value)\n",
        "print(\"alpha:\", alpha)\n",
        "\n",
        "if anova_p_value < alpha:\n",
        "    print(\"p_value < alpha\")\n",
        "    print(\"Inference: Reject H0: At least one group has a different mean\")\n",
        "else:\n",
        "    print(\"p_value > alpha\")\n",
        "    print(\"Inference: Fail to reject H0: All groups have the same mean\")\n",
        "\n",
        "# Answer : Pvalue = 0.0049, Not all regions' households had the same mean energy consumption in last year"
      ]
    },
    {
      "cell_type": "markdown",
      "source": [
        "#### Q2. Book Review"
      ],
      "metadata": {
        "id": "WxpkW2ZW7qsQ"
      }
    },
    {
      "cell_type": "code",
      "source": [
        "\"\"\"\n",
        "Q2. Book Review\n",
        "There is a website, \"www.goodreads.com\" where people can leave their reviews about a book and rate them on a scale of 1 to 5 stars.\n",
        "The following table gives the number of pages of a random sample of books with different ratings, as listed on the site:\n",
        "\n",
        "one_star = [382, 391, 335, 368, 400, 372]\n",
        "two_star = [560, 343, 512, 329, 391, 367]\n",
        "three_star = [384, 458, 409, 309, 374, 459]\n",
        "four_star = [325, 390, 304, 240, 306, 169]\n",
        "five_star = [360, 298, 272, 368, 320, 326]\n",
        "\n",
        "At a 1% significance level, does the data provide sufficient evidence to conclude that there is a difference in the mean number of pages among books in these five rating groups?\n",
        "\"\"\"\n",
        "\n",
        "one_star = [382, 391, 335, 368, 400, 372]\n",
        "two_star = [560, 343, 512, 329, 391, 367]\n",
        "three_star = [384, 458, 409, 309, 374, 459]\n",
        "four_star = [325, 390, 304, 240, 306, 169]\n",
        "five_star = [360, 298, 272, 368, 320, 326]\n",
        "\n",
        "# Null Hypothesis (h0): The mean number of pages is the same among books in all five rating groups.\n",
        "# Alternative Hypothesis (ha): The mean number of pages is not the same among books in all five rating groups.\n",
        "\n",
        "import scipy.stats as stats\n",
        "# Perform One-Way ANOVA test\n",
        "alpha = 0.05\n",
        "anova_stat, anova_p_value = stats.f_oneway(one_star, two_star, three_star, four_star, five_star)\n",
        "\n",
        "# Interpretation\n",
        "print(\"F-statistic:\", anova_stat)\n",
        "print(\"P-value:\", anova_p_value)\n",
        "print(\"alpha:\", alpha)\n",
        "\n",
        "if anova_p_value < alpha:\n",
        "    print(\"p_value < alpha\")\n",
        "    print(\"Inference: Reject H0: At least one group has a different mean\")\n",
        "else:\n",
        "    print(\"p_value > alpha\")\n",
        "    print(\"Inference: Fail to reject H0: All groups have the same mean\")\n",
        "\n",
        "# Answer : p_value = 0.00936, Number of pages in the books belonging to different rating groups is different"
      ],
      "metadata": {
        "colab": {
          "base_uri": "https://localhost:8080/"
        },
        "id": "AoxSpWNZ68fT",
        "outputId": "a9d7f86a-711c-401a-96ad-6f2636b134fd"
      },
      "execution_count": 10,
      "outputs": [
        {
          "output_type": "stream",
          "name": "stdout",
          "text": [
            "F-statistic: 4.238644902556343\n",
            "P-value: 0.009362001936328837\n",
            "alpha: 0.05\n",
            "p_value < alpha\n",
            "Inference: Reject H0: At least one group has a different mean\n"
          ]
        }
      ]
    },
    {
      "cell_type": "markdown",
      "source": [
        "#### Q3. SmartPhone Battery Life"
      ],
      "metadata": {
        "id": "U5yZBL6q7sxs"
      }
    },
    {
      "cell_type": "code",
      "source": [
        "\"\"\"\n",
        "Q3. SmartPhone Battery Life\n",
        "\n",
        "Consumer Reports publishes reviews and comparisons of products based on results from its laboratory.\n",
        "Data from their website gave the following table for battery lives in hours, for samples of smartphones made by four different mobile companies.\n",
        "\n",
        "Brand_A = [19.60, 18.82, 19.00, 18.45, 19.79, 19.03, 17.89, 19.42]\n",
        "Brand_B = [21.10, 20.00, 20.43, 19.67, 18.99, 19.98, 20.14, 19.78]\n",
        "Brand_C = [10.31, 10.02, 9.41, 9.89, 10.05, 10.52, 11.02, 10.42]\n",
        "Brand_D = [17.02, 16.71, 17.78, 18.65, 15.98, 17.63, 17.00, 16.78, 16.92, 17.14]\n",
        "\n",
        "At a 2% significance level, does the data provide sufficient evidence to conclude that there is a significant difference in the mean battery life, among the four brands?\n",
        "\n",
        "And, if significant, then perform pairwise T-tests to identify which pairs of smartphone brands offer a different mean battery life.\n",
        "\n",
        "\"\"\"\n",
        "\n",
        "\"\"\"\n",
        "Correct Option: All four brands offer different battery life\n",
        "\n",
        "Explanation:\n",
        "Since we need to compare numerical values of 4 (>2) groups, let’s perform ANOVA test to see if there is any significant difference between the mean battery life of these smartphone brands.\n",
        "\n",
        "We define our hypothesis as:\n",
        "\n",
        "Null Hypothesis (H0): There are no significant differences in the mean battery life of smartphones among these 4 brands\n",
        "Alternative Hypothesis (H1): There is at least one pair of smartphone brands that offer a significant difference in their mean battery\n",
        "We can use the following code for the same. The significance level is set at 0.02\n",
        "Code:\n",
        "\"\"\"\n",
        "\n",
        "import scipy.stats as stats\n",
        "\n",
        "# Sample data for battery life of different smartphone brands\n",
        "brand_A = [19.60, 18.82, 19.00, 18.45, 19.79, 19.03, 17.89, 19.42]\n",
        "brand_B = [21.10, 20.00, 20.43, 19.67, 18.99, 19.98, 20.14, 19.78]\n",
        "brand_C = [10.31, 10.02, 9.41, 9.89, 10.05, 10.52, 11.02, 10.42]\n",
        "brand_D = [17.02, 16.71, 17.78, 18.65, 15.98, 17.63, 17.00, 16.78, 16.92, 17.14]\n",
        "\n",
        "# Perform one-way ANOVA\n",
        "f_statistic, p_value = stats.f_oneway(brand_A, brand_B, brand_C, brand_D)\n",
        "\n",
        "# Print the results\n",
        "print(\"One-Way ANOVA results:\")\n",
        "print(\"F-statistic:\", f_statistic)\n",
        "print(\"P-value:\", p_value)\n",
        "\n",
        "alpha = 0.02\n",
        "\n",
        "# Interpret the results of one-way ANOVA\n",
        "if p_value < alpha:\n",
        "   print(\"Reject the null hypothesis\")\n",
        "   print(\"There is at least one pair of smartphone brands that offer a significantly different mean battery life.\")\n",
        "else:\n",
        "   print(\"Fail to reject the null hypothesis\")\n",
        "   print(\"There are no significant differences in the mean battery life of smartphones among these 4 brands.\")\n",
        "\n",
        "\"\"\"\n",
        "Output:\n",
        "One-Way ANOVA results:\n",
        "F-statistic: 404.7865500650496\n",
        "P-value: 2.392149441499325e-24\n",
        "Reject the null hypothesis\n",
        "There is at least one pair of smartphone brands that offer a significant difference in their mean battery.\n",
        "\n",
        "\n",
        "\n",
        "Since there is a significant difference between at least one pair of smartphone brands, in order to find out which one, we need to Perform T-Test for each pair of different brands, and calculate the t-statistic and p-value for each pair.\n",
        "These pairs are:\n",
        "\n",
        "A vs. B,\n",
        "A vs. C,\n",
        "A vs. D,\n",
        "B vs. C,\n",
        "B vs. D,\n",
        "C vs. D.\n",
        "Therefore, we formulate our Hypotheses as:\n",
        "\n",
        "H0: There is no significant difference in the mean battery life between the two smartphone brands, i.e. they offer the same battery life.\n",
        "Ha: There is a significant difference in the mean battery life between the two smartphone brands.\n",
        "The significance level is set at 0.02\n",
        "\n",
        "Code:\n",
        "\"\"\"\n",
        "\n",
        "import numpy as np\n",
        "from scipy.stats import ttest_ind\n",
        "\n",
        "# Sample data for battery life of different brand smartphones\n",
        "brand_A = [19.60, 18.82, 19.00, 18.45, 19.79, 19.03, 17.89, 19.42]\n",
        "brand_B = [21.10, 20.00, 20.43, 19.67, 18.99, 19.98, 20.14, 19.78]\n",
        "brand_C = [10.31, 10.02, 9.41, 9.89, 10.05, 10.52, 11.02, 10.42]\n",
        "brand_D = [17.02, 16.71, 17.78, 18.65, 15.98, 17.63, 17.00, 16.78, 16.92, 17.14]\n",
        "\n",
        "# Perform pairwise t-tests\n",
        "result_ab = ttest_ind(brand_A, brand_B)\n",
        "result_ac = ttest_ind(brand_A, brand_C)\n",
        "result_ad = ttest_ind(brand_A, brand_D)\n",
        "result_bc = ttest_ind(brand_B, brand_C)\n",
        "result_bd = ttest_ind(brand_B, brand_D)\n",
        "result_cd = ttest_ind(brand_C, brand_D)\n",
        "\n",
        "# Significance level\n",
        "alpha = 0.02\n",
        "\n",
        "# Print results\n",
        "print(\"Pairwise t-test results:\")\n",
        "print(\"A vs. B:\", \"Pvalue = \", result_ab.pvalue, \" ; Significant difference in Mean Battery life\" if result_ab.pvalue <= alpha else \"No difference in mean Battery life\")\n",
        "print(\"A vs. C:\", \"Pvalue = \", result_ac.pvalue, \" ; Significant difference in Mean Battery life\" if result_ac.pvalue <= alpha else \"No difference in mean Battery life\")\n",
        "print(\"A vs. D:\", \"Pvalue = \", result_ad.pvalue, \" ; Significant difference in Mean Battery life\" if result_ad.pvalue <= alpha else \"No difference in mean Battery life\")\n",
        "print(\"B vs. C:\", \"Pvalue = \", result_bc.pvalue, \" ; Significant difference in Mean Battery life\" if result_bc.pvalue <= alpha else \"No difference in mean Battery life\")\n",
        "print(\"B vs. D:\", \"Pvalue = \", result_bd.pvalue, \" ; Significant difference in Mean Battery life\" if result_bd.pvalue <= alpha else \"No difference in mean Battery life\")\n",
        "print(\"C vs. D:\", \"Pvalue = \", result_cd.pvalue, \" ; Significant difference in Mean Battery life\" if result_cd.pvalue <= alpha else \"No difference in mean Battery life\")\n",
        "\n",
        "# Output:\n",
        "# Pairwise t-test results:\n",
        "# A vs. B: Pvalue = 0.005464761718691163 ; Significant difference in Mean Battery life\n",
        "# A vs. C: Pvalue = 2.0378129111849533e-14 ; Significant difference in Mean Battery life\n",
        "# A vs. D: Pvalue = 3.271164766368406e-05 ; Significant difference in Mean Battery life\n",
        "# B vs. C: Pvalue = 3.618464053986992e-15 ; Significant difference in Mean Battery life\n",
        "# B vs. D: Pvalue = 1.3124601764847073e-07 ; Significant difference in Mean Battery life\n",
        "# C vs. D: Pvalue = 8.33672049161488e-14 ; Significant difference in Mean Battery life\n",
        "\n",
        "# Hence, we conclude that all four smartphone brands offer a significantly different mean battery life."
      ],
      "metadata": {
        "colab": {
          "base_uri": "https://localhost:8080/"
        },
        "id": "fJG-jUWc69U0",
        "outputId": "b3065569-a314-469d-fb3b-6ffd42fafb5c"
      },
      "execution_count": 11,
      "outputs": [
        {
          "output_type": "stream",
          "name": "stdout",
          "text": [
            "One-Way ANOVA results:\n",
            "F-statistic: 404.7865500650496\n",
            "P-value: 2.392149441499325e-24\n",
            "Reject the null hypothesis\n",
            "There is at least one pair of smartphone brands that offer a significantly different mean battery life.\n",
            "Pairwise t-test results:\n",
            "A vs. B: Pvalue =  0.005464761718691163  ; Significant difference in Mean Battery life\n",
            "A vs. C: Pvalue =  2.0378129111849533e-14  ; Significant difference in Mean Battery life\n",
            "A vs. D: Pvalue =  3.271164766368406e-05  ; Significant difference in Mean Battery life\n",
            "B vs. C: Pvalue =  3.618464053986992e-15  ; Significant difference in Mean Battery life\n",
            "B vs. D: Pvalue =  1.3124601764847073e-07  ; Significant difference in Mean Battery life\n",
            "C vs. D: Pvalue =  8.33672049161488e-14  ; Significant difference in Mean Battery life\n"
          ]
        }
      ]
    },
    {
      "cell_type": "markdown",
      "source": [
        "#### Q4. Vehicle Miles"
      ],
      "metadata": {
        "id": "oFoge5_T7wgq"
      }
    },
    {
      "cell_type": "code",
      "source": [
        "\"\"\"\n",
        "Q4. Vehicle Miles\n",
        "\n",
        "The Highway Administration conducts an annual survey on motor vehicles travelling on the highway. They publish their findings in Highway Statistics, based on different types of vehicles.\n",
        "Independent simple random samples of cars, buses, and trucks yielded the data on a number of thousand miles driven last year.\n",
        "\n",
        "cars = [19.9, 15.3, 2.2, 6.8, 34.2, 8.3, 12.0, 7.0, 9.5, 1.1]\n",
        "buses = [1.8, 24.6, 7.2, 37.0, 7.2, 21.2, 6.5, 23.6]\n",
        "trucks = [13.3, 23.0, 25.4, 15.3, 57.1, 14.5, 26.0]\n",
        "We want to decide if there is a difference in last year’s mean number of miles driven among cars, buses, and trucks.\n",
        "\n",
        "At a 93% confidence level, does the data provide sufficient evidence to conclude that there is a difference in last year’s mean number of miles driven by cars, buses, and trucks?\n",
        "\"\"\"\n",
        "\"\"\"\n",
        "Correct Option: p_value = 0.1078, Mean no. of miles driven on the highway, by the different vehicle types was same in the last year\n",
        "\n",
        "Explanation:\n",
        "Based on the given problem, we define our hypothesis as:\n",
        "\n",
        "H0 : Mean no. of miles driven on the highway, by the different vehicle types was same in the last year\n",
        "Ha : Mean no. of miles driven on the highway, by the different vehicle types was different in the last year\n",
        "Since we are required to conduct an experiment between MULTIPLE groups at the same time, we will use ANOVA Test\n",
        "\n",
        "Code:\n",
        "\"\"\"\n",
        "from scipy.stats import f_oneway\n",
        "\n",
        "cars = [19.9, 15.3, 2.2, 6.8, 34.2, 8.3, 12.0, 7.0, 9.5, 1.1]\n",
        "buses = [1.8, 24.6, 7.2, 37.0, 7.2, 21.2, 6.5, 23.6]\n",
        "trucks = [13.3, 23.0, 25.4, 15.3, 57.1, 14.5, 26.0]\n",
        "\n",
        "test_statistic, p_value = f_oneway(cars, buses, trucks)\n",
        "print(\"p_value:\",p_value)\n",
        "\n",
        "alpha = 0.07\n",
        "if  p_value < alpha:\n",
        "    print(\"Reject H0; Mean no. of miles driven on the highway, by the different vehicle types was different in the last year\")\n",
        "else:\n",
        "    print(\"Fail to reject H0; Mean no. of miles driven on the highway, by the different vehicle types was same in the last year\")\n",
        "\n",
        "# Output:\n",
        "# p_value: 0.10782985675757563\n",
        "# Fail to reject H0; Mean no. of miles driven on the highway, by the different vehicle types was same in the last year"
      ],
      "metadata": {
        "colab": {
          "base_uri": "https://localhost:8080/"
        },
        "id": "TyYYDqoa6_iZ",
        "outputId": "354a07ca-08bf-4973-985d-9097e4758214"
      },
      "execution_count": 12,
      "outputs": [
        {
          "output_type": "stream",
          "name": "stdout",
          "text": [
            "p_value: 0.10782985675757563\n",
            "Fail to reject H0; Mean no. of miles driven on the highway, by the different vehicle types was same in the last year\n"
          ]
        }
      ]
    },
    {
      "cell_type": "markdown",
      "source": [
        "#### Q5. Average Height"
      ],
      "metadata": {
        "id": "bgD-prBB7yoV"
      }
    },
    {
      "cell_type": "code",
      "source": [
        "\"\"\"\n",
        "Q5. Average Height\n",
        "\n",
        "Check whether there is a significant difference (consider a 1% significance level) in the mean height of three groups of adult people. Height is in inches.\n",
        "\n",
        "college_students = [71, 62, 63, 59, 67, 68, 63, 62, 66, 65, 61, 60]\n",
        "athletes = [67, 68, 72, 66, 65, 69, 71, 70, 65, 64, 68]\n",
        "army = [68, 67, 66, 68, 69, 70, 71, 69, 66, 67]\n",
        "\n",
        "Correct Answer: p_value = 0.00175, difference exists in mean height of three groups\n",
        "\n",
        "Explanation:\n",
        "\"\"\"\n",
        "\n",
        "import numpy as np\n",
        "from scipy.stats import f_oneway\n",
        "\n",
        "# Null Hypothesis (H0): The mean heights of the three groups are equal.\n",
        "# Alternative Hypothesis (Ha): At least one mean height is different from the others.'''\n",
        "\n",
        "# Data\n",
        "college_students = [71, 62, 63, 59, 67, 68, 63, 62, 66, 65, 61, 60]\n",
        "athletes = [67, 68, 72, 66, 65, 69, 71, 70, 65, 64, 68]\n",
        "army = [68, 67, 66, 68, 69, 70, 71, 69, 66, 67]\n",
        "\n",
        "# Perform ANOVA test\n",
        "f_statistic, p_value = f_oneway(college_students, athletes, army)\n",
        "\n",
        "# Significance level (alpha)\n",
        "alpha = 0.01\n",
        "\n",
        "# Compare p-value with significance level\n",
        "if p_value < alpha:\n",
        "    conclusion = \"Reject the null hypothesis. There is a significant difference in the mean height of the three groups.\"\n",
        "else:\n",
        "    conclusion = \"Fail to reject the null hypothesis. There is no significant difference in the mean height of the three groups.\"\n",
        "\n",
        "print(\"F-statistic:\", f_statistic)\n",
        "print(\"p-value:\", p_value)\n",
        "print(conclusion)"
      ],
      "metadata": {
        "colab": {
          "base_uri": "https://localhost:8080/"
        },
        "id": "wg22qw1c7Dc1",
        "outputId": "cb3444a4-51c4-4e87-d565-d08e1098f04d"
      },
      "execution_count": 13,
      "outputs": [
        {
          "output_type": "stream",
          "name": "stdout",
          "text": [
            "F-statistic: 7.899836075209478\n",
            "p-value: 0.0017534092082519943\n",
            "Reject the null hypothesis. There is a significant difference in the mean height of the three groups.\n"
          ]
        }
      ]
    },
    {
      "cell_type": "markdown",
      "source": [
        "#### Q6. Exam scores distribution"
      ],
      "metadata": {
        "id": "MFMz6Xmk71AG"
      }
    },
    {
      "cell_type": "code",
      "source": [
        "\"\"\"\n",
        "Q6. Exam scores distribution\n",
        "Suppose you have data on 150 students' exam scores, and you want to test if the distribution of scores falls within predefined categories.\n",
        "\n",
        "The expected distribution is\n",
        "\n",
        "30% in the \"Excellent\" category,\n",
        "40% in the \"Good\" category, and\n",
        "30% in the \"Average\" category.\n",
        "Upon observation, you notice that there are:\n",
        "\n",
        "45 students fall into the \"Excellent\" category,\n",
        "50 students into the \"Good\" category, and\n",
        "55 students into the \"Average\" category.\n",
        "Conduct an appropriate test to see if the distribution matches expectations at a 5% significance level, and choose the correct option from below:.\n",
        "\"\"\"\n",
        "\n",
        "\n",
        "\"\"\"\n",
        "Correct Answer: P-value: c)\n",
        "\n",
        "P-value: 0.1430\n",
        "We fail to reject the null hypothesis\n",
        "Thus concluding that the distribution of exam scores matches the expected distribution.\n",
        "Explanation:\n",
        "Based on the problem, we define our hypothesis as:\n",
        "\n",
        "Null Hypothesis (H0): The distribution of exam scores matches the expected distribution.\n",
        "Alternative Hypothesis (H1): The distribution of exam scores does not match the expected distribution.\n",
        "Approach 1\n",
        "In order to check whether the observed distribution matches the expectations, we can use Chi Squared Goodness of Fit test\n",
        "\"\"\"\n",
        "\n",
        "# Approach 1 stats.chisquare ###########################################\n",
        "import numpy as np\n",
        "from scipy import stats\n",
        "\n",
        "observed_counts = np.array([45, 50, 55])\n",
        "expected_counts = np.array([0.30 * 150, 0.40 * 150, 0.30 * 150])\n",
        "\n",
        "chi_squared_stat, p_value = stats.chisquare(f_obs=observed_counts, f_exp=expected_counts)\n",
        "\n",
        "print(f\"Chi-Square Statistic: {chi_squared_stat}\")\n",
        "print(f\"P-value: {p_value}\")\n",
        "\n",
        "alpha = 0.05\n",
        "if p_value < alpha:\n",
        "    print(\"Reject the null hypothesis. The distribution of exam scores does not match the expected distribution.\")\n",
        "else:\n",
        "    print(\"Fail to reject the null hypothesis. The distribution of exam scores matches the expected distribution.\")\n",
        "\n",
        "# Approach 2 (alternate way to calculate p value) ###########################################\n",
        "\n",
        "from scipy.stats import chi2\n",
        "chi_squared_stat = ((45 - 45)**2/45) + ((50 - 60)**2/60) + ((55 - 45)**2/45)\n",
        "# first parameter is chi square statisitcs and 2nd parameter is degree of freedom\n",
        "p_value = 1- chi2.cdf(chi_squared_stat, df=2)\n",
        "# Print the p-value\n",
        "print(\"P-value:\", p_value)"
      ],
      "metadata": {
        "colab": {
          "base_uri": "https://localhost:8080/"
        },
        "id": "N8FO84q27DZy",
        "outputId": "4ff0ed95-75ad-4c80-c29e-3c3b18ae1edf"
      },
      "execution_count": 14,
      "outputs": [
        {
          "output_type": "stream",
          "name": "stdout",
          "text": [
            "Chi-Square Statistic: 3.8888888888888893\n",
            "P-value: 0.1430666827544082\n",
            "Fail to reject the null hypothesis. The distribution of exam scores matches the expected distribution.\n",
            "P-value: 0.14306668275440826\n"
          ]
        }
      ]
    },
    {
      "cell_type": "markdown",
      "source": [
        "#### Q7. Time spent on website"
      ],
      "metadata": {
        "id": "Mi1SnE-i741f"
      }
    },
    {
      "cell_type": "code",
      "source": [
        "\"\"\"\n",
        "Q7. Time spent on website\n",
        "\n",
        "Suppose you are interested in the distribution of time spent on a website, by it's users. You expect that:\n",
        "\n",
        "20% of users spend less than 5 minutes,\n",
        "50% spend between 5 and 10 minutes, and\n",
        "30% spend more than 10 minutes.\n",
        "After collecting data from 200 users, you find that\n",
        "\n",
        "30 users spent less than 5 minutes,\n",
        "85 users spent between 5 and 10 minutes, and\n",
        "85 users spent more than 10 minutes.\n",
        "Conduct an appropriate test to see if the distribution of browsing times matches your expectations at a 5% significance level. Choose the correct option from below:\n",
        "\n",
        "\"\"\"\n",
        "\n",
        "\"\"\"\n",
        "Correct Answer: b)\n",
        "\n",
        "P-value: 0.0005\n",
        "The null hypothesis is rejected,\n",
        "Thus concluding that the distribution of browsing times does not match expectations.\n",
        "Explanation:\n",
        "Based on the problem, we define the hypothesis as:\n",
        "\n",
        "Null Hypothesis (H0): The distribution of browsing times matches the expected distribution.\n",
        "Alternative Hypothesis (H1): The distribution of browsing times does not match the expected distribution.\n",
        "Approach 1\n",
        "In order to check whether the observed distribution matches the expectations, we can use Chi Squared Goodness of Fit test\n",
        "\n",
        "Code:\n",
        "\"\"\"\n",
        "# Approach 1 stats.chisquare###########################################################################\n",
        "\n",
        "import numpy as np\n",
        "from scipy import stats\n",
        "\n",
        "observed_counts = np.array([30, 85, 85])\n",
        "expected_counts = np.array([0.20 * 200, 0.50 * 200, 0.30 * 200])\n",
        "\n",
        "chi_squared_stat, p_value = stats.chisquare(f_obs=observed_counts, f_exp=expected_counts)\n",
        "\n",
        "alpha = 0.05\n",
        "\n",
        "if p_value < alpha:\n",
        "    print(\"Reject the null hypothesis: The distribution of browsing times does not match expectations.\")\n",
        "else:\n",
        "    print(\"Fail to reject the null hypothesis: The distribution of browsing times matches expectations.\")\n",
        "\n",
        "print(f\"Chi-Square Statistic: {chi_squared_stat}\")\n",
        "print(f\"P-value: {p_value}\")\n",
        "\n",
        "# Reject the null hypothesis: The distribution of browsing times does not match expectations.\n",
        "# Chi-Square Statistic: 15.166666666666666\n",
        "# P-value: 0.0005088621855732918\n",
        "\n",
        "# Approach 2 (alternate way to calculate p value) #######################################################\n",
        "\n",
        "from scipy.stats import chi2\n",
        "\n",
        "chi_squared_stat = ((30 - 40)**2/40) + ((85 - 100)**2/100) + ((85 - 60)**2/60)\n",
        "\n",
        "# first parameter is chi square statisitcs and 2nd parameter is degree of freedom\n",
        "p_value = 1- chi2.cdf(chi_squared_stat, df=2)\n",
        "\n",
        "# Print the p-value\n",
        "print(\"P-value:\", p_value)\n",
        "\n",
        "# Reject the null hypothesis: The distribution of browsing times does not match expectations.\n",
        "# Chi-Square Statistic: 15.166666666666666\n",
        "# P-value: 0.0005088621855732918\n",
        "# P-value: 0.0005088621855733333"
      ],
      "metadata": {
        "colab": {
          "base_uri": "https://localhost:8080/"
        },
        "id": "qZxdym7h7DPU",
        "outputId": "7071e9c4-e447-4e4a-8708-9e42965f57b8"
      },
      "execution_count": 15,
      "outputs": [
        {
          "output_type": "stream",
          "name": "stdout",
          "text": [
            "Reject the null hypothesis: The distribution of browsing times does not match expectations.\n",
            "Chi-Square Statistic: 15.166666666666666\n",
            "P-value: 0.0005088621855732918\n",
            "P-value: 0.0005088621855733333\n"
          ]
        }
      ]
    },
    {
      "cell_type": "code",
      "source": [],
      "metadata": {
        "id": "vKw4zFCp7DMM"
      },
      "execution_count": 15,
      "outputs": []
    }
  ]
}